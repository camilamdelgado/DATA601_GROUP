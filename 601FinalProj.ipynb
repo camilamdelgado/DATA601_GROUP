{
 "cells": [
  {
   "cell_type": "code",
   "execution_count": 2,
   "id": "67e89ed1-6a8f-46b8-8f47-f4f05c032f9e",
   "metadata": {},
   "outputs": [
    {
     "name": "stdout",
     "output_type": "stream",
     "text": [
      "1.24.4\n",
      "3.8.0\n"
     ]
    }
   ],
   "source": [
    "import numpy as np\n",
    "import matplotlib as mpl\n",
    "mpl.rcParams['figure.dpi'] = 96\n",
    "import matplotlib.pyplot as plt\n",
    "print(np.__version__)\n",
    "print(mpl.__version__)\n"
   ]
  },
  {
   "cell_type": "code",
   "execution_count": 3,
   "id": "57c9b39d-51c5-4fc1-a084-14be24bcfac4",
   "metadata": {},
   "outputs": [
    {
     "data": {
      "text/plain": [
       "'2.1.1'"
      ]
     },
     "execution_count": 3,
     "metadata": {},
     "output_type": "execute_result"
    }
   ],
   "source": [
    " import pandas as pd\n",
    "import numpy as np\n",
    "\n",
    "# Turn on copy-on-write as recommended by pandas\n",
    "pd.set_option(\"mode.copy_on_write\", True)\n",
    "pd.__version__"
   ]
  },
  {
   "cell_type": "code",
   "execution_count": 55,
   "id": "5852bea5-5765-4305-aad8-a7354be3d72f",
   "metadata": {},
   "outputs": [
    {
     "name": "stdout",
     "output_type": "stream",
     "text": [
      "   ID  Age  Gender           Bedtime      Wakeup time  Sleep duration  \\\n",
      "0   1   65  Female   2021-03-06 1:00  2021-03-06 7:00             6.0   \n",
      "1   2   69    Male   2021-12-05 2:00  2021-12-05 9:00             7.0   \n",
      "2   3   40  Female  2021-05-25 21:30  2021-05-25 5:30             8.0   \n",
      "3   4   40  Female   2021-11-03 2:30  2021-11-03 8:30             6.0   \n",
      "4   5   57    Male   2021-03-13 1:00  2021-03-13 9:00             8.0   \n",
      "\n",
      "   Sleep efficiency  REM sleep percentage  Deep sleep percentage  \\\n",
      "0              0.88                    18                     70   \n",
      "1              0.66                    19                     28   \n",
      "2              0.89                    20                     70   \n",
      "3              0.51                    23                     25   \n",
      "4              0.76                    27                     55   \n",
      "\n",
      "   Light sleep percentage  Awakenings  Caffeine consumption  \\\n",
      "0                      12         0.0                   0.0   \n",
      "1                      53         3.0                   0.0   \n",
      "2                      10         1.0                   0.0   \n",
      "3                      52         3.0                  50.0   \n",
      "4                      18         3.0                   0.0   \n",
      "\n",
      "   Alcohol consumption Smoking status  Exercise frequency  \n",
      "0                  0.0            Yes                 3.0  \n",
      "1                  3.0            Yes                 3.0  \n",
      "2                  0.0             No                 3.0  \n",
      "3                  5.0            Yes                 1.0  \n",
      "4                  3.0             No                 3.0  \n",
      "<class 'pandas.core.frame.DataFrame'>\n",
      "RangeIndex: 452 entries, 0 to 451\n",
      "Data columns (total 15 columns):\n",
      " #   Column                  Non-Null Count  Dtype         \n",
      "---  ------                  --------------  -----         \n",
      " 0   ID                      452 non-null    int64         \n",
      " 1   Age                     452 non-null    int64         \n",
      " 2   Gender                  452 non-null    category      \n",
      " 3   Bedtime                 452 non-null    datetime64[ns]\n",
      " 4   Wakeup time             452 non-null    datetime64[ns]\n",
      " 5   Sleep duration          452 non-null    float64       \n",
      " 6   Sleep efficiency        452 non-null    float64       \n",
      " 7   REM sleep percentage    452 non-null    int64         \n",
      " 8   Deep sleep percentage   452 non-null    int64         \n",
      " 9   Light sleep percentage  452 non-null    int64         \n",
      " 10  Awakenings              432 non-null    float64       \n",
      " 11  Caffeine consumption    427 non-null    float64       \n",
      " 12  Alcohol consumption     438 non-null    float64       \n",
      " 13  Smoking status          452 non-null    object        \n",
      " 14  Exercise frequency      446 non-null    float64       \n",
      "dtypes: category(1), datetime64[ns](2), float64(6), int64(5), object(1)\n",
      "memory usage: 50.1+ KB\n",
      "None\n"
     ]
    }
   ],
   "source": [
    "df = pd.read_csv('Sleep_data.csv')\n",
    "print(df.head())\n",
    "# Convert Data Types\n",
    "# Convert 'Bedtime', 'Wakeup time', and 'Wakeup date' columns to datetime\n",
    "df['Bedtime'] = pd.to_datetime(df['Bedtime'])\n",
    "df['Wakeup time'] = pd.to_datetime(df['Wakeup time'])\n",
    "df['Gender'] = pd.Categorical(df['Gender'])\n",
    "\n",
    "print(df.info())"
   ]
  },
  {
   "cell_type": "code",
   "execution_count": null,
   "id": "f86490c2-b41c-42a1-98d1-f7f2ad5f9681",
   "metadata": {
    "scrolled": true
   },
   "outputs": [],
   "source": [
    "\n"
   ]
  }
 ],
 "metadata": {
  "kernelspec": {
   "display_name": "Python 3 (ipykernel)",
   "language": "python",
   "name": "python3"
  },
  "language_info": {
   "codemirror_mode": {
    "name": "ipython",
    "version": 3
   },
   "file_extension": ".py",
   "mimetype": "text/x-python",
   "name": "python",
   "nbconvert_exporter": "python",
   "pygments_lexer": "ipython3",
   "version": "3.11.6"
  }
 },
 "nbformat": 4,
 "nbformat_minor": 5
}
